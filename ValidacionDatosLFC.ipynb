{
  "nbformat": 4,
  "nbformat_minor": 0,
  "metadata": {
    "colab": {
      "provenance": []
    },
    "kernelspec": {
      "name": "python3",
      "display_name": "Python 3"
    },
    "language_info": {
      "name": "python"
    }
  },
  "cells": [
    {
      "cell_type": "markdown",
      "source": [
        "*   **Año:** 2024\n",
        "*   **Alumno/a:** Lucas Fernandez Capiet\n",
        "*   **Legajo:** 45733850"
      ],
      "metadata": {
        "id": "UwxQU5JCF33j"
      }
    },
    {
      "cell_type": "markdown",
      "source": [
        "# Pydantic\n",
        "Pydantic es una libreria rapida y extensible que nos permite validar datos usando tipos de datos de Python.\n"
      ],
      "metadata": {
        "id": "8ec8DQdbWQfC"
      }
    },
    {
      "cell_type": "markdown",
      "source": [
        "Primero, importe `pydantic`."
      ],
      "metadata": {
        "id": "uF01w4AQcrtV"
      }
    },
    {
      "cell_type": "code",
      "source": [
        "from pydantic import BaseModel, Field"
      ],
      "metadata": {
        "id": "4WPUcwU_c5n2"
      },
      "execution_count": null,
      "outputs": []
    },
    {
      "cell_type": "markdown",
      "source": [
        "Supongamos que tenemos una lista de clientes (llamemoslo en el codigo `Client`). Los clientes tienen dos campos: DNI (un entero) y nacionalidad (un `string`). Cree el modelo base de `Client` (en forma de clases de Python)."
      ],
      "metadata": {
        "id": "eC8fpbQ04GzX"
      }
    },
    {
      "cell_type": "code",
      "source": [
        "class Client(BaseModel):\n",
        "    dni: int\n",
        "    nationality: str"
      ],
      "metadata": {
        "id": "I4zJ7s_k4GkI"
      },
      "execution_count": null,
      "outputs": []
    },
    {
      "cell_type": "markdown",
      "source": [
        "Cree a un usuario con documento 39.755.010 y nacionalidad 'Argentina'. Muestre todos sus campos."
      ],
      "metadata": {
        "id": "zas-XX4r4SeP"
      }
    },
    {
      "cell_type": "code",
      "source": [
        "client1 = Client(dni=39755010, nationality='Argentina')\n",
        "\n",
        "print(client1.dni)\n",
        "print(client1.nationality)"
      ],
      "metadata": {
        "id": "_DhtCWhr4ST9",
        "colab": {
          "base_uri": "https://localhost:8080/"
        },
        "outputId": "8baf8426-4ad0-4cf4-cf2d-8eefe0550d29"
      },
      "execution_count": null,
      "outputs": [
        {
          "output_type": "stream",
          "name": "stdout",
          "text": [
            "39755010\n",
            "Argentina\n"
          ]
        }
      ]
    },
    {
      "cell_type": "markdown",
      "source": [
        "Intente crear al usuario con un documento en forma de `string`. Deberia fallar..."
      ],
      "metadata": {
        "id": "ejbn5RSH4S_W"
      }
    },
    {
      "cell_type": "code",
      "source": [
        "clientF = Client(dni=\"39755010\", nationality='Argentina')\n",
        "\n",
        "print(clientF.dni)\n",
        "print(clientF.nationality)"
      ],
      "metadata": {
        "id": "OMPq8C1C4Su3",
        "colab": {
          "base_uri": "https://localhost:8080/"
        },
        "outputId": "774920fc-e50d-450f-b032-af6e5ed97fb2"
      },
      "execution_count": null,
      "outputs": [
        {
          "output_type": "stream",
          "name": "stdout",
          "text": [
            "39755010\n",
            "Argentina\n"
          ]
        }
      ]
    },
    {
      "cell_type": "markdown",
      "source": [
        "Hemos detectado que ciertos clientes tienen nacionalidades que no existen. Ademas, hay numeros de documento negativos y se tiene que poder agregar la fecha de registro de los clientes (que no pueden ser del futuro). Cambiar la definicion del cliente para que estas cosas no ocurran. Despues de la siguiente celda, cree otras 3 mas probando un caso donde deberia funcionar y otros dos en los que no."
      ],
      "metadata": {
        "id": "jARZRMfe6MPE"
      }
    },
    {
      "cell_type": "code",
      "source": [
        "from pydantic import BaseModel, validator, Field\n",
        "from datetime import datetime, date\n",
        "import re\n",
        "\n",
        "class Client(BaseModel):\n",
        "    dni: int = Field(gt=0, description=\"DNI must be positive\")\n",
        "    nationality: str\n",
        "    registration_date: date = Field(default_factory=date.today, description=\"Defaults to today, cannot be in future\")\n",
        "\n",
        "    @validator('nationality')\n",
        "    def nationality_must_be_valid(cls, value):\n",
        "        if not re.fullmatch(r\"^[a-zA-Z\\s]*$\", value):\n",
        "            raise ValueError(\"Invalid nationality format\")\n",
        "        return value\n",
        "\n",
        "    @validator('registration_date')\n",
        "    def registration_date_cannot_be_in_future(cls, value):\n",
        "        if value > date.today():\n",
        "            raise ValueError(\"Registration date cannot be in the future\")\n",
        "        return value"
      ],
      "metadata": {
        "id": "JWsWZZPH6NFv",
        "colab": {
          "base_uri": "https://localhost:8080/"
        },
        "outputId": "32079f94-27bb-451e-96d0-a3665899ce3e"
      },
      "execution_count": null,
      "outputs": [
        {
          "output_type": "stream",
          "name": "stderr",
          "text": [
            "<ipython-input-8-f28fec552e89>:10: PydanticDeprecatedSince20: Pydantic V1 style `@validator` validators are deprecated. You should migrate to Pydantic V2 style `@field_validator` validators, see the migration guide for more details. Deprecated in Pydantic V2.0 to be removed in V3.0. See Pydantic V2 Migration Guide at https://errors.pydantic.dev/2.9/migration/\n",
            "  @validator('nationality')\n",
            "<ipython-input-8-f28fec552e89>:17: PydanticDeprecatedSince20: Pydantic V1 style `@validator` validators are deprecated. You should migrate to Pydantic V2 style `@field_validator` validators, see the migration guide for more details. Deprecated in Pydantic V2.0 to be removed in V3.0. See Pydantic V2 Migration Guide at https://errors.pydantic.dev/2.9/migration/\n",
            "  @validator('registration_date')\n"
          ]
        }
      ]
    },
    {
      "cell_type": "code",
      "source": [
        "client_data = {\n",
        "    \"dni\": 39755010,\n",
        "    \"nationality\": \"Argentina\",\n",
        "    \"registration_date\": date(2023, 1, 15)\n",
        "}\n",
        "\n",
        "try:\n",
        "    client = Client(**client_data)\n",
        "    print(\"Client created\")\n",
        "except ValueError as e:\n",
        "    print(f\"Error creating client: {e}\")"
      ],
      "metadata": {
        "id": "sWyLaqoC7QUK",
        "colab": {
          "base_uri": "https://localhost:8080/"
        },
        "outputId": "044d94c8-a0df-4e46-af1e-15ce685b1280"
      },
      "execution_count": null,
      "outputs": [
        {
          "output_type": "stream",
          "name": "stdout",
          "text": [
            "Client created successfully!\n"
          ]
        }
      ]
    },
    {
      "cell_type": "code",
      "source": [
        "client_data = {\n",
        "    \"dni\": 39755010,\n",
        "    \"nationality\": \"Argentina123\",\n",
        "    \"registration_date\": date(2023, 1, 15)\n",
        "}\n",
        "\n",
        "try:\n",
        "    client = Client(**client_data)\n",
        "    print(\"Client created\")\n",
        "except ValueError as e:\n",
        "    print(f\"Error creating client: {e}\")"
      ],
      "metadata": {
        "id": "E6h_7zb77QhN",
        "colab": {
          "base_uri": "https://localhost:8080/"
        },
        "outputId": "f9af1826-a18a-4475-bbd1-67050859e42a"
      },
      "execution_count": null,
      "outputs": [
        {
          "output_type": "stream",
          "name": "stdout",
          "text": [
            "Error creating client: 1 validation error for Client\n",
            "nationality\n",
            "  Value error, Invalid nationality format [type=value_error, input_value='Argentina123', input_type=str]\n",
            "    For further information visit https://errors.pydantic.dev/2.9/v/value_error\n"
          ]
        }
      ]
    },
    {
      "cell_type": "code",
      "source": [
        "client_data = {\n",
        "    \"dni\": \"39755010asd\",\n",
        "    \"nationality\": \"Argentina\",\n",
        "    \"registration_date\": date(2023, 1, 15)\n",
        "}\n",
        "\n",
        "try:\n",
        "    client = Client(**client_data)\n",
        "    print(\"Client created\")\n",
        "except ValueError as e:\n",
        "    print(f\"Error creating client: {e}\")"
      ],
      "metadata": {
        "id": "MtDGMxri7R_O",
        "colab": {
          "base_uri": "https://localhost:8080/"
        },
        "outputId": "d25f10b0-979a-467b-e592-bd55e2579821"
      },
      "execution_count": null,
      "outputs": [
        {
          "output_type": "stream",
          "name": "stdout",
          "text": [
            "Error creating client: 1 validation error for Client\n",
            "dni\n",
            "  Input should be a valid integer, unable to parse string as an integer [type=int_parsing, input_value='39755010asd', input_type=str]\n",
            "    For further information visit https://errors.pydantic.dev/2.9/v/int_parsing\n"
          ]
        }
      ]
    },
    {
      "cell_type": "markdown",
      "source": [
        "# Pandera\n",
        "Hacer lo que se pidio en la ultima celda anterior, pero con Pandera."
      ],
      "metadata": {
        "id": "79P3MNuZ8-t3"
      }
    },
    {
      "cell_type": "code",
      "source": [
        "from pydantic import BaseModel\n",
        "\n",
        "class Client(BaseModel):\n",
        "    dni: int\n",
        "    nacionalidad: str\n",
        "cliente = Client(dni=44254009, nacionalidad=\"Argentina\")\n",
        "print(cliente)"
      ],
      "metadata": {
        "id": "z3DJDdci8-BP",
        "colab": {
          "base_uri": "https://localhost:8080/"
        },
        "outputId": "6a120c4a-6984-4f28-e5b3-96b7d0ebd43a"
      },
      "execution_count": null,
      "outputs": [
        {
          "output_type": "stream",
          "name": "stdout",
          "text": [
            "dni=44254009 nacionalidad='Argentina'\n"
          ]
        }
      ]
    }
  ]
}